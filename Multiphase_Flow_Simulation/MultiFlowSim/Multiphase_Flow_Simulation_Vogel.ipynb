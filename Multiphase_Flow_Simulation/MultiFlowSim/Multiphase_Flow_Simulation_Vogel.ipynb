{
  "nbformat": 4,
  "nbformat_minor": 0,
  "metadata": {
    "colab": {
      "provenance": [],
      "authorship_tag": "ABX9TyNEdRkg5Ei0TD6tgtdfd6Tx",
      "include_colab_link": true
    },
    "kernelspec": {
      "name": "python3",
      "display_name": "Python 3"
    },
    "language_info": {
      "name": "python"
    }
  },
  "cells": [
    {
      "cell_type": "markdown",
      "metadata": {
        "id": "view-in-github",
        "colab_type": "text"
      },
      "source": [
        "<a href=\"https://colab.research.google.com/github/josorio398/Multiphase_Flow_Simulation/blob/main/Multiphase_Flow_Simulation/MultiFlowSim/Multiphase_Flow_Simulation_Vogel.ipynb\" target=\"_parent\"><img src=\"https://colab.research.google.com/assets/colab-badge.svg\" alt=\"Open In Colab\"/></a>"
      ]
    },
    {
      "cell_type": "markdown",
      "source": [
        "#   **MULTIPHASE FLOW SIMULATION**"
      ],
      "metadata": {
        "id": "DEzspR1jIyaJ"
      }
    },
    {
      "cell_type": "markdown",
      "source": [
        "##  **Library installation**"
      ],
      "metadata": {
        "id": "kSNu9x_MJM3j"
      }
    },
    {
      "cell_type": "code",
      "execution_count": 1,
      "metadata": {
        "id": "1bdGv_IISs7e"
      },
      "outputs": [],
      "source": [
        "%%capture\n",
        "!pip install jupyter-dash"
      ]
    },
    {
      "cell_type": "markdown",
      "source": [
        "## **Vogel Method**"
      ],
      "metadata": {
        "id": "bJS4vFeIJen9"
      }
    },
    {
      "cell_type": "code",
      "source": [
        "from dash import Dash, dash_table, dcc, html\n",
        "from dash.dependencies import Input, Output\n",
        "from jupyter_dash import JupyterDash\n",
        "import pandas as pd\n",
        "import numpy as np\n",
        "import plotly.graph_objs as go\n",
        "\n",
        "\n",
        "\n",
        "\n",
        "\n",
        "\n",
        "app = JupyterDash(__name__)\n",
        "app.layout = html.Div([\n",
        "    html.H1(\"Multiphase Flow Simulation-vogel Method\"),\n",
        "    dash_table.DataTable(\n",
        "        id=\"table\",\n",
        "        columns=[\n",
        "            {\"name\": \"Variable\", \"id\": \"variable\"},\n",
        "            {\"name\": \"Value\", \"id\": \"value\", \"type\": \"numeric\"}\n",
        "        ],\n",
        "        data=[\n",
        "            {\"variable\": \"Pr\", \"value\": 2500},\n",
        "            {\"variable\": \"Pb\", \"value\": 2600},\n",
        "            {\"variable\": \"Pwf1\", \"value\": 2100},\n",
        "            {\"variable\": \"Q1\", \"value\": 354},\n",
        "            {\"variable\": \"Pwf2\", \"value\": 1500},\n",
        "            {\"variable\": \"IP1\", \"value\": 0},\n",
        "            {\"variable\": \"n\", \"value\": 10},\n",
        "        ],\n",
        "        editable=True,\n",
        "        style_table={\n",
        "            'height': '300px',\n",
        "            'width': '50%',\n",
        "            'overflowY': 'auto',\n",
        "        },\n",
        "        style_cell={\n",
        "            'width': '50%',\n",
        "            'textAlign': 'center',\n",
        "        },\n",
        "        style_header={\n",
        "            'fontWeight': 'bold',\n",
        "        }\n",
        "    ),\n",
        "    html.Div(id=\"output1\"),\n",
        "    \n",
        "    dash_table.DataTable(  # Añade este componente\n",
        "    id=\"output2\",\n",
        "    columns=[{\"name\": i, \"id\": i} for i in [\"Pressure (Psi)\", \"Flow (BPD)\"]],\n",
        "    data=[],\n",
        "    style_table={\n",
        "        'height': '300px',\n",
        "        'width': '50%',\n",
        "        'overflowY': 'auto',\n",
        "    },\n",
        "    style_cell={\n",
        "        'width': '50%',\n",
        "        'textAlign': 'center',\n",
        "    },\n",
        "    style_header={\n",
        "        'fontWeight': 'bold',\n",
        "    }\n",
        "    ),\n",
        "\n",
        "    dcc.Graph(id=\"output3\"),  # Changed from html.Div to dcc.Graph\n",
        "    ])\n",
        "\n",
        "\n",
        "@app.callback(\n",
        "    [Output(\"output1\", \"children\"),Output(\"output2\", \"data\"),Output(\"output3\", \"figure\")],  # Changed \"output2\" to \"figure\"\n",
        "    Input(\"table\", \"data\") )\n",
        "\n",
        "\n",
        "def update_outputs(data):\n",
        "    pwf2, q_calc = vogel(data)\n",
        "    table = vogel_table(data)\n",
        "    scatter = vogel_scatter(data)\n",
        "    return  html.Div([ html.P(f\"Pwf2: {pwf2}\"),html.P(f\"Q_calc: {q_calc}\")]),table.to_dict(\"records\"),scatter\n",
        "\n",
        "\n",
        "\n",
        "\n",
        "def vogel(data):\n",
        "\n",
        "    Pr   =  data[0][\"value\"]\n",
        "    Pb   =  data[1][\"value\"]\n",
        "    Pwf1 = data[2][\"value\"]\n",
        "    Q1   = data[3][\"value\"]\n",
        "    Pwf2 = data[4][\"value\"]\n",
        "    IP1  = data[5][\"value\"] \n",
        "    n   =  data[6][\"value\"] \n",
        "\n",
        "    if Pr < Pb:\n",
        "        if Pwf1 == 0 and IP1 == 0 and Q1 == 0:\n",
        "            return (\"No hay forma de calcular la curva\", None)  # Modificado\n",
        "        else:\n",
        "            if Pwf1 != 0:\n",
        "                qmax = (Q1 / (1 - (0.2 * (Pwf1 / Pb)) - (0.8 * ((Pwf1 / Pb)) ** 2)))\n",
        "                q_calc = int((round(qmax) * (1 - (0.2 * (Pwf2 / Pb)) - (0.8 * ((Pwf2 / Pb)) ** 2))))\n",
        "            else:\n",
        "                qmax = (Q1 / (1 - (0.2 * ((Pr - (Q1 / IP1)) / Pb)) - (0.8 * (((Pr - (Q1 / IP1)) / Pb)) ** 2)))\n",
        "                q_calc = int((round(qmax) * (1 - (0.2 * (Pwf2 / Pb)) - (0.8 * ((Pwf2 / Pb)) ** 2))))\n",
        "            return (Pwf2, round(q_calc))\n",
        "    else:\n",
        "        if Pwf1 == 0 or Q1 == 0:\n",
        "            if Pwf2 > Pb:\n",
        "                IP = (1 * IP1)\n",
        "                Qob = (IP * (Pr - Pb))\n",
        "                Qmax = (Qob + (IP * (Pb / 1.8)))\n",
        "                Q_calc = int((IP * (Pr - Pwf2)))\n",
        "                return (Pwf2, round(Q_calc))\n",
        "            else:\n",
        "                IP = (1 * IP1)\n",
        "                Qob = (IP * (Pr - Pb))\n",
        "                Qmax = (Qob + (IP * (Pb / 1.8)))\n",
        "                Q_calc = (Qob + (Qmax - Qob) * (1 - 0.2 * (Pwf2 / Pb) - 0.8 * ((Pwf2 / Pb) ** 2)))\n",
        "\n",
        "                return (Pwf2, round(Q_calc))\n",
        "        else:\n",
        "            if Pwf2 > Pb:\n",
        "                IP = (Q1 / (Pr - Pwf1))\n",
        "                Qob = (IP * (Pr - Pb))\n",
        "                Qmax = (Qob + (IP * (Pb / 1.8)))\n",
        "                Q_calc = int((IP * (Pr - Pwf2)))\n",
        "                return (Pwf2, round(Q_calc))\n",
        "            else:\n",
        "                IP = (Q1 / (Pr - Pwf1))\n",
        "                Qob = (IP * (Pr - Pb))\n",
        "                Qmax = (Qob + (IP * (Pb / 1.8)))\n",
        "                Q_calc = (Qob + (Qmax - Qob) * (1 - 0.2 * (Pwf2 / Pb) - 0.8 * ((Pwf2 / Pb) ** 2)))\n",
        "                return (Pwf2, round(Q_calc))\n",
        "\n",
        "def vogel_table(data):\n",
        "\n",
        "    Pr   =  data[0][\"value\"]\n",
        "    Pb   =  data[1][\"value\"]\n",
        "    Pwf1 =  data[2][\"value\"]\n",
        "    Q1   =  data[3][\"value\"]\n",
        "    Pwf2 =  data[4][\"value\"]\n",
        "    IP1  =  data[5][\"value\"] \n",
        "    n    =  data[6][\"value\"] \n",
        "\n",
        "    arreglo = np.linspace(0, Pr, n)\n",
        "    datos = [vogel(data) for i in arreglo]\n",
        "    df = pd.DataFrame(datos, columns=[\"Pressure (Psi)\", \"Flow (BPD)\"])\n",
        "    return df\n",
        "\n",
        "def vogel_scatter(data):\n",
        "\n",
        "    Pb   = data[1][\"value\"]\n",
        "    Pwf1 = data[2][\"value\"]\n",
        "    Q1   = data[3][\"value\"]\n",
        "    Pwf2 = data[4][\"value\"]\n",
        "    IP1  = data[5][\"value\"] \n",
        "    n    = data[6][\"value\"] \n",
        "\n",
        "    df = vogel_table(data)\n",
        "\n",
        "    x = df[\"Flow (BPD)\"]\n",
        "    y = df[\"Pressure (Psi)\"]\n",
        "\n",
        "    fig = go.Figure(\n",
        "        go.Scatter(\n",
        "            x=x,\n",
        "            y=y,\n",
        "            mode=\"lines\",\n",
        "            marker=dict(\n",
        "                color=\"blue\",\n",
        "            )\n",
        "        )\n",
        "    )\n",
        "\n",
        "    fig.update_layout(\n",
        "        title=\"IPR Curve\",\n",
        "        xaxis_title=\"flow (BPD)\",\n",
        "        yaxis_title=\"pressure (Psi)\"\n",
        "    )\n",
        "\n",
        "    return fig  # Cambiado de fig.show() a fig\n",
        "\n",
        "app.run_server(mode='inline')"
      ],
      "metadata": {
        "colab": {
          "base_uri": "https://localhost:8080/",
          "height": 741
        },
        "id": "8nQpGh3-iz3t",
        "outputId": "4d49cd42-ee08-419d-adee-267e8f98a1bd"
      },
      "execution_count": 10,
      "outputs": [
        {
          "output_type": "stream",
          "name": "stdout",
          "text": [
            "Dash is running on http://127.0.0.1:8050/\n",
            "\n"
          ]
        },
        {
          "output_type": "stream",
          "name": "stderr",
          "text": [
            "INFO:dash.dash:Dash is running on http://127.0.0.1:8050/\n",
            "\n"
          ]
        },
        {
          "output_type": "display_data",
          "data": {
            "text/plain": [
              "<IPython.core.display.Javascript object>"
            ],
            "application/javascript": [
              "(async (port, path, width, height, cache, element) => {\n",
              "    if (!google.colab.kernel.accessAllowed && !cache) {\n",
              "      return;\n",
              "    }\n",
              "    element.appendChild(document.createTextNode(''));\n",
              "    const url = await google.colab.kernel.proxyPort(port, {cache});\n",
              "    const iframe = document.createElement('iframe');\n",
              "    iframe.src = new URL(path, url).toString();\n",
              "    iframe.height = height;\n",
              "    iframe.width = width;\n",
              "    iframe.style.border = 0;\n",
              "    iframe.allow = [\n",
              "        'accelerometer',\n",
              "        'autoplay',\n",
              "        'camera',\n",
              "        'clipboard-read',\n",
              "        'clipboard-write',\n",
              "        'gyroscope',\n",
              "        'magnetometer',\n",
              "        'microphone',\n",
              "        'serial',\n",
              "        'usb',\n",
              "        'xr-spatial-tracking',\n",
              "    ].join('; ');\n",
              "    element.appendChild(iframe);\n",
              "  })(8050, \"/\", \"100%\", 650, false, window.element)"
            ]
          },
          "metadata": {}
        }
      ]
    }
  ]
}